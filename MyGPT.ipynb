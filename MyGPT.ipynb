{
 "cells": [
  {
   "cell_type": "code",
   "execution_count": 2,
   "metadata": {},
   "outputs": [],
   "source": [
    "import torch\n",
    "import torch.nn as nn\n",
    "import torch.nn.functional as F\n",
    "import matplotlib.pyplot as plt\n",
    "import requests\n",
    "import os"
   ]
  },
  {
   "cell_type": "code",
   "execution_count": 3,
   "metadata": {},
   "outputs": [
    {
     "name": "stdout",
     "output_type": "stream",
     "text": [
      "1115394\n",
      "['\\n', ' ', '!', '$', '&', \"'\", ',', '-', '.', '3', ':', ';', '?', 'A', 'B', 'C', 'D', 'E', 'F', 'G', 'H', 'I', 'J', 'K', 'L', 'M', 'N', 'O', 'P', 'Q', 'R', 'S', 'T', 'U', 'V', 'W', 'X', 'Y', 'Z', 'a', 'b', 'c', 'd', 'e', 'f', 'g', 'h', 'i', 'j', 'k', 'l', 'm', 'n', 'o', 'p', 'q', 'r', 's', 't', 'u', 'v', 'w', 'x', 'y', 'z']\n",
      "65\n"
     ]
    }
   ],
   "source": [
    "file = 'tiny_shakespere.txt'\n",
    "if not os.path.isfile(file):\n",
    "    response = requests.get(\"https://raw.githubusercontent.com/jcjohnson/torch-rnn/master/data/tiny-shakespeare.txt\")\n",
    "    response.raise_for_status()\n",
    "    with open(file, 'w') as f:\n",
    "        f.write(response.text)\n",
    "\n",
    "shakespere = open(file, 'r').read()\n",
    "chars = sorted(list(set(shakespere)))\n",
    "vocab_size = len(chars)\n",
    "\n",
    "print(len(shakespere))\n",
    "print(chars)\n",
    "print(vocab_size)"
   ]
  },
  {
   "cell_type": "code",
   "execution_count": 4,
   "metadata": {},
   "outputs": [
    {
     "name": "stdout",
     "output_type": "stream",
     "text": [
      "[20, 43, 50, 50, 53, 1, 35, 53, 56, 50, 42, 2]\n",
      "Hello World!\n"
     ]
    }
   ],
   "source": [
    "itos = dict(zip(range(len(chars)), chars))\n",
    "stoi = dict(zip(chars, range(len(chars))))\n",
    "encode = lambda s: [stoi[c] for c in s]\n",
    "decode = lambda l: ''.join([itos[i] for i in l])\n",
    "\n",
    "print(encode(\"Hello World!\"))\n",
    "print(decode(encode(\"Hello World!\")))"
   ]
  },
  {
   "cell_type": "code",
   "execution_count": 5,
   "metadata": {},
   "outputs": [
    {
     "name": "stdout",
     "output_type": "stream",
     "text": [
      "torch.Size([1115394]) torch.int64\n",
      "tensor([18, 47, 56, 57, 58,  1, 15, 47, 58, 47, 64, 43, 52, 10,  0, 14, 43, 44,\n",
      "        53, 56, 43,  1, 61, 43,  1, 54, 56, 53, 41, 43, 43, 42,  1, 39, 52, 63,\n",
      "         1, 44, 59, 56, 58, 46, 43, 56,  6,  1, 46, 43, 39, 56])\n"
     ]
    }
   ],
   "source": [
    "data = torch.tensor(encode(shakespere), dtype=torch.long)\n",
    "print(data.shape, data.dtype)\n",
    "print(data[:50])"
   ]
  },
  {
   "cell_type": "code",
   "execution_count": 6,
   "metadata": {},
   "outputs": [],
   "source": [
    "n = int(0.9*len(data))\n",
    "train_data = data[:n]\n",
    "val_data = data[n:]"
   ]
  },
  {
   "cell_type": "code",
   "execution_count": 7,
   "metadata": {},
   "outputs": [
    {
     "name": "stdout",
     "output_type": "stream",
     "text": [
      "x: torch.Size([4, 8]) tensor([[24, 43, 58,  5, 57,  1, 46, 43],\n",
      "        [44, 53, 56,  1, 58, 46, 39, 58],\n",
      "        [52, 58,  1, 58, 46, 39, 58,  1],\n",
      "        [25, 17, 27, 10,  0, 21,  1, 54]])\n",
      "y: torch.Size([4, 8]) tensor([[43, 58,  5, 57,  1, 46, 43, 39],\n",
      "        [53, 56,  1, 58, 46, 39, 58,  1],\n",
      "        [58,  1, 58, 46, 39, 58,  1, 46],\n",
      "        [17, 27, 10,  0, 21,  1, 54, 39]])\n",
      "------\n",
      "inputs [24] expects 43\n",
      "inputs [24, 43] expects 58\n",
      "inputs [24, 43, 58] expects 5\n",
      "inputs [24, 43, 58, 5] expects 57\n",
      "inputs [24, 43, 58, 5, 57] expects 1\n",
      "inputs [24, 43, 58, 5, 57, 1] expects 46\n",
      "inputs [24, 43, 58, 5, 57, 1, 46] expects 43\n",
      "inputs [24, 43, 58, 5, 57, 1, 46, 43] expects 39\n",
      "inputs [44] expects 53\n",
      "inputs [44, 53] expects 56\n",
      "inputs [44, 53, 56] expects 1\n",
      "inputs [44, 53, 56, 1] expects 58\n",
      "inputs [44, 53, 56, 1, 58] expects 46\n",
      "inputs [44, 53, 56, 1, 58, 46] expects 39\n",
      "inputs [44, 53, 56, 1, 58, 46, 39] expects 58\n",
      "inputs [44, 53, 56, 1, 58, 46, 39, 58] expects 1\n",
      "inputs [52] expects 58\n",
      "inputs [52, 58] expects 1\n",
      "inputs [52, 58, 1] expects 58\n",
      "inputs [52, 58, 1, 58] expects 46\n",
      "inputs [52, 58, 1, 58, 46] expects 39\n",
      "inputs [52, 58, 1, 58, 46, 39] expects 58\n",
      "inputs [52, 58, 1, 58, 46, 39, 58] expects 1\n",
      "inputs [52, 58, 1, 58, 46, 39, 58, 1] expects 46\n",
      "inputs [25] expects 17\n",
      "inputs [25, 17] expects 27\n",
      "inputs [25, 17, 27] expects 10\n",
      "inputs [25, 17, 27, 10] expects 0\n",
      "inputs [25, 17, 27, 10, 0] expects 21\n",
      "inputs [25, 17, 27, 10, 0, 21] expects 1\n",
      "inputs [25, 17, 27, 10, 0, 21, 1] expects 54\n",
      "inputs [25, 17, 27, 10, 0, 21, 1, 54] expects 39\n"
     ]
    }
   ],
   "source": [
    "torch.manual_seed(1337)\n",
    "batch_size = 4\n",
    "block_size = 8\n",
    "\n",
    "def get_batch(split):\n",
    "    data = train_data if split == 'train' else val_data\n",
    "    ix = torch.randint(len(data)-block_size, (batch_size,))\n",
    "    x = torch.stack([data[i:i+block_size] for i in ix])\n",
    "    y = torch.stack([data[i+1:i+block_size+1] for i in ix])\n",
    "    return x, y\n",
    "\n",
    "xb, yb = get_batch('train')\n",
    "print('x:', xb.shape, xb)\n",
    "print('y:', yb.shape, yb)\n",
    "\n",
    "print('------')\n",
    "\n",
    "for b in range (batch_size): # batch dimension\n",
    "    for t in range(block_size): # time dimension\n",
    "        context = xb[b, :t+1]\n",
    "        target = yb[b, t]\n",
    "        print(\"inputs\", context.tolist(), 'expects', target.tolist())"
   ]
  },
  {
   "cell_type": "code",
   "execution_count": 8,
   "metadata": {},
   "outputs": [
    {
     "name": "stdout",
     "output_type": "stream",
     "text": [
      "torch.Size([32, 65])\n",
      "5.036386013031006\n",
      "\n",
      "l-QYjt'CL?jLDuQcLzy'RIo;'KdhpV\n",
      "vLixa,nswYZwLEPS'ptIZqOZJ$CA$zy-QTkeMk x.gQSFCLg!iW3fO!3DGXAqTsq3pdgq\n"
     ]
    }
   ],
   "source": [
    "class BigramLangageModel(nn.Module):\n",
    "    def __init__(self, vocab_size, n_emb) -> None:\n",
    "        super().__init__()\n",
    "        self.token_embedding_table = nn.Embedding(vocab_size, n_emb)\n",
    "    \n",
    "    def forward(self, idx, targets = None):\n",
    "        logits = self.token_embedding_table(idx) # (B, T, C) - Batch, Time, Channels(Embedding)\n",
    "\n",
    "        if targets is None:\n",
    "            loss = None\n",
    "        else:\n",
    "            # cross entropy needs logits as (B*T, C) and target as (B*T)\n",
    "            B, T, C = logits.shape\n",
    "            logits = logits.view(B*T, C)\n",
    "            targets = targets.view(B*T)\n",
    "            loss = F.cross_entropy(logits, targets)\n",
    "\n",
    "        return logits, loss\n",
    "\n",
    "    def generate(self, idx, max_new_tokens):\n",
    "        # idx is (B, T) array os indices in the current context\n",
    "        for _ in range(max_new_tokens):\n",
    "            # get the predictions\n",
    "            logits, loss = self(idx)\n",
    "            # focus only on the last time step\n",
    "            logits = logits[:, -1, :] # becomes (B, C)\n",
    "            # apply softmax to get probabilities\n",
    "            probs = F.softmax(logits, dim=-1) # (B, C)\n",
    "            # sample from the distribution\n",
    "            idx_next = torch.multinomial(probs, num_samples=1) # (B, 1)\n",
    "            idx = torch.cat((idx, idx_next), dim=1) # (B, T+1)\n",
    "        return idx\n",
    "\n",
    "m = BigramLangageModel(vocab_size)\n",
    "logits, loss = m(xb, yb)\n",
    "print(logits.shape)\n",
    "print(loss.item())\n",
    "print(decode(m.generate(torch.zeros((1,1), dtype=torch.long), max_new_tokens=100)[0].tolist()))"
   ]
  },
  {
   "cell_type": "code",
   "execution_count": 9,
   "metadata": {},
   "outputs": [],
   "source": [
    "optimizer = torch.optim.AdamW(m.parameters(), lr=1e-3)"
   ]
  },
  {
   "cell_type": "code",
   "execution_count": 10,
   "metadata": {},
   "outputs": [
    {
     "name": "stdout",
     "output_type": "stream",
     "text": [
      "3.6379246711730957\n"
     ]
    }
   ],
   "source": [
    "batch_size = 32\n",
    "for steps in range(1000):\n",
    "    # sample batch of data\n",
    "    xb, yb = get_batch('train')\n",
    "\n",
    "    # evaluate the loss\n",
    "    logits, loss = m(xb, yb)\n",
    "    optimizer.zero_grad(set_to_none=True)\n",
    "    loss.backward()\n",
    "    optimizer.step()\n",
    "\n",
    "print(loss.item())\n"
   ]
  },
  {
   "cell_type": "code",
   "execution_count": 11,
   "metadata": {},
   "outputs": [
    {
     "name": "stdout",
     "output_type": "stream",
     "text": [
      "\n",
      "N3vVoesMyas:Iocindad.e-NNSqYPso&bFho&$;BQ$dZTMf'mKlf;DRPm'W,esPzyXAzCA$;GunqCEy&Oy;ZxjKVhmrdhxCAbTSp-Rue.HQN\n",
      "!GW&kwst-s\n",
      "OMc.hpENUZEzlda$BPPtIhe!,epdheaRns:\n",
      "AqW3E,DXU,NENT n b.u.xIYV&j'nnl;s,ngtoOm ixPLenrXElrPjIU-T'SmCPJ\n",
      "cra3bLGhT ALM-veAYkpr ,erPVhJQNV\n",
      "P?WN3b?oYxpig;ENTy3q&j.mes; iZ,w..w&yEK\n",
      "Ona$Iy\n"
     ]
    }
   ],
   "source": [
    "print(decode(m.generate(torch.zeros((1,1), dtype=torch.long), max_new_tokens=300)[0].tolist()))"
   ]
  },
  {
   "cell_type": "code",
   "execution_count": 17,
   "metadata": {},
   "outputs": [
    {
     "name": "stdout",
     "output_type": "stream",
     "text": [
      "torch.Size([4, 8, 16])\n"
     ]
    }
   ],
   "source": [
    "# SelfAttention Trick\n",
    "B, T, C = 4, 8, 32 # Batch, Time, Channels\n",
    "x = torch.randn(B, T, C)\n",
    "# print(x.shape)\n",
    "\n",
    "# # We want x[b,t] = mean_{i<=t} x[b,i]\n",
    "# xbow2 = torch.zeros((B,T,C))\n",
    "# for b in range(B):\n",
    "#     for t in range(T):\n",
    "#         xprev = x[b, :t+1] # (t,C)\n",
    "#         xbow2[b, t] = torch.mean(xprev, 0)\n",
    "\n",
    "# # a = torch.tril(torch.ones(3, 3))\n",
    "# # a = a / torch.sum(a, 1, keepdim=True)\n",
    "# # b = torch.randint(0, 10,(3,2)).float()\n",
    "# # c = a @ b\n",
    "# # a, b, c\n",
    "\n",
    "# let's see a single Head perform self_attention\n",
    "head_size = 16\n",
    "key = nn.Linear(C, head_size, bias=False)\n",
    "query = nn.Linear(C, head_size, bias=False)\n",
    "value = nn.Linear(C, head_size, bias=False)\n",
    "k = key(x)   # (B, T, head_size)\n",
    "q = query(x) # (B, T, head_size)\n",
    "wei = q @ k.transpose(-2, -1) * head_size**-0.5 # (B, T, head_size) @ (B, head_size, T) = (B, T, T)\n",
    "\n",
    "tril = torch.tril(torch.ones((T, T)))\n",
    "# wei = torch.zeros((T, T))\n",
    "wei = wei.masked_fill(tril == 0, float('-inf'))\n",
    "wei = F.softmax(wei, dim=-1)\n",
    "\n",
    "v = value(x)\n",
    "xbow = wei @ v\n",
    "# torch.allclose(xbow, xbow2)\n",
    "\n",
    "print(xbow.shape)"
   ]
  },
  {
   "cell_type": "code",
   "execution_count": null,
   "metadata": {},
   "outputs": [],
   "source": []
  }
 ],
 "metadata": {
  "kernelspec": {
   "display_name": "Makemore-7ynZQ-KU",
   "language": "python",
   "name": "python3"
  },
  "language_info": {
   "codemirror_mode": {
    "name": "ipython",
    "version": 3
   },
   "file_extension": ".py",
   "mimetype": "text/x-python",
   "name": "python",
   "nbconvert_exporter": "python",
   "pygments_lexer": "ipython3",
   "version": "3.11.4"
  }
 },
 "nbformat": 4,
 "nbformat_minor": 2
}
