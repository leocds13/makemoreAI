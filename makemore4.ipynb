{
 "cells": [
  {
   "cell_type": "code",
   "execution_count": 1,
   "metadata": {},
   "outputs": [],
   "source": [
    "# import requests\n",
    "import torch\n",
    "# import os\n",
    "import torch.nn.functional as F\n",
    "import matplotlib.pyplot as plt"
   ]
  },
  {
   "cell_type": "code",
   "execution_count": 2,
   "metadata": {},
   "outputs": [
    {
     "data": {
      "text/plain": [
       "(57750,\n",
       " ['adao',\n",
       "  'adelina',\n",
       "  'adelson',\n",
       "  'ademar',\n",
       "  'ademir',\n",
       "  'adenilson',\n",
       "  'adilson',\n",
       "  'adriana',\n",
       "  'adriano',\n",
       "  'adriele'])"
      ]
     },
     "execution_count": 2,
     "metadata": {},
     "output_type": "execute_result"
    }
   ],
   "source": [
    "file = \"nomes_br.csv\"\n",
    "words = []\n",
    "with open(file, 'r', encoding='utf-8') as f:\n",
    "    words = f.read().lower().splitlines()\n",
    "\n",
    "file = \"names.txt\"\n",
    "with open(file, 'r', encoding='utf-8') as f:\n",
    "    for w in f.read().lower().splitlines():\n",
    "        words.append(w) \n",
    "words = list(dict.fromkeys(words))\n",
    "len(words), words[:10]"
   ]
  },
  {
   "cell_type": "code",
   "execution_count": 3,
   "metadata": {},
   "outputs": [
    {
     "name": "stdout",
     "output_type": "stream",
     "text": [
      "{0: '.', 1: 'a', 2: 'b', 3: 'c', 4: 'd', 5: 'e', 6: 'f', 7: 'g', 8: 'h', 9: 'i', 10: 'j', 11: 'k', 12: 'l', 13: 'm', 14: 'n', 15: 'o', 16: 'p', 17: 'q', 18: 'r', 19: 's', 20: 't', 21: 'u', 22: 'v', 23: 'w', 24: 'x', 25: 'y', 26: 'z'}\n",
      "27\n"
     ]
    }
   ],
   "source": [
    "#build the vocabulary os chars and mapping to/from integers\n",
    "chars = ['.']+sorted(list(set(''.join(words))))\n",
    "ctoi = {c:i for i,c in enumerate(chars)}\n",
    "itoc = {i:c for c,i in ctoi.items()}\n",
    "vocab_size = len(itoc)\n",
    "print(itoc)\n",
    "print(vocab_size)"
   ]
  },
  {
   "cell_type": "code",
   "execution_count": 4,
   "metadata": {},
   "outputs": [
    {
     "name": "stdout",
     "output_type": "stream",
     "text": [
      "torch.Size([348607, 4]) torch.Size([348607])\n",
      "torch.Size([43537, 4]) torch.Size([43537])\n",
      "torch.Size([43738, 4]) torch.Size([43738])\n"
     ]
    }
   ],
   "source": [
    "# build the dataset\n",
    "\n",
    "block_size = 4\n",
    "def build_dataset(words):\n",
    "    X, Y = [], []\n",
    "\n",
    "    for w in words:\n",
    "        context = [0] * block_size\n",
    "        for ch in w + '.':\n",
    "            ix = ctoi[ch]\n",
    "            X.append(context)\n",
    "            Y.append(ix)\n",
    "\n",
    "            context = context[1:] + [ix]\n",
    "    \n",
    "    X = torch.tensor(X)\n",
    "    Y = torch.tensor(Y)\n",
    "    print(X.shape, Y.shape)\n",
    "    return X, Y\n",
    "\n",
    "import random\n",
    "random.seed(42)\n",
    "random.shuffle(words)\n",
    "n1 = int(0.8*len(words))\n",
    "n2 = int(0.9*len(words))\n",
    "\n",
    "# training split, dev/validation split, test split\n",
    "# 80%, 10% , 10%\n",
    "Xtr, Ytr = build_dataset(words[:n1])\n",
    "Xdev, Ydev = build_dataset(words[n1:n2])\n",
    "Xte, Yte = build_dataset(words[n2:])"
   ]
  },
  {
   "cell_type": "code",
   "execution_count": 5,
   "metadata": {},
   "outputs": [
    {
     "data": {
      "text/plain": [
       "device(type='cpu')"
      ]
     },
     "execution_count": 5,
     "metadata": {},
     "output_type": "execute_result"
    }
   ],
   "source": [
    "device = torch.device(\"cuda\" if torch.cuda.is_available() else \"cpu\")\n",
    "device"
   ]
  },
  {
   "cell_type": "code",
   "execution_count": 6,
   "metadata": {},
   "outputs": [
    {
     "name": "stdout",
     "output_type": "stream",
     "text": [
      "14097\n"
     ]
    }
   ],
   "source": [
    "n_emb = 10\n",
    "n_hidden = 200\n",
    "\n",
    "g = torch.Generator().manual_seed(2147483647)\n",
    "C = torch.randn((vocab_size, n_emb),                generator=g)\n",
    "\n",
    "W1 = torch.randn((n_emb * block_size, n_hidden),    generator=g) * ((5/3) / ((n_emb*block_size) ** 0.5))\n",
    "# b1 = torch.randn(n_hidden,                          generator=g) * 0.01\n",
    "W2 = torch.randn((n_hidden, vocab_size),            generator=g) * 0.01\n",
    "b2 = torch.randn(vocab_size,                        generator=g) * 0\n",
    "\n",
    "bngain = torch.ones((1, n_hidden))\n",
    "bnbias = torch.zeros((1, n_hidden)) \n",
    "bnmean_running = torch.zeros((1, n_hidden))\n",
    "bnstd_running = torch.ones((1, n_hidden)) \n",
    "\n",
    "parameters = [C, W1, W2, b2, bngain, bnbias]\n",
    "print(sum(p.nelement() for p in parameters))\n",
    "for p in parameters:\n",
    "    p.requires_grad = True"
   ]
  },
  {
   "cell_type": "code",
   "execution_count": 7,
   "metadata": {},
   "outputs": [],
   "source": [
    "max_steps = 200000\n",
    "batch_size = 32\n",
    "lossi = []\n",
    "\n",
    "def feedfoward(Xf, calcBn = False):\n",
    "    global bnmean_running, bnstd_running\n",
    "    # foward pass\n",
    "    emb = C[Xf] # [32, 3, 2]\n",
    "    emb_cat = emb.view(emb.shape[0], -1)\n",
    "\n",
    "    hpreact = emb_cat @ W1 #+ b1\n",
    "    bnmeani = hpreact.mean(0, keepdim=True)\n",
    "    bnstdi = hpreact.std(0, keepdim=True)\n",
    "    hpreact = bngain * (hpreact - (bnmeani if calcBn else bnmean_running)) / (bnstdi if calcBn else bnstd_running)  + bnbias\n",
    "    \n",
    "    if calcBn:\n",
    "        with torch.no_grad():\n",
    "            bnmean_running = 0.999 * bnmean_running + 0.001 * bnmeani \n",
    "            bnstd_running = 0.999 * bnstd_running + 0.001 * bnstdi \n",
    "    \n",
    "    h = torch.tanh(hpreact) # (32, 100)\n",
    "    logits = h @ W2 + b2\n",
    "    return logits"
   ]
  },
  {
   "cell_type": "code",
   "execution_count": 8,
   "metadata": {},
   "outputs": [
    {
     "name": "stdout",
     "output_type": "stream",
     "text": [
      "      0/ 200000: 3.3073\n",
      "  10000/ 200000: 2.1901\n",
      "  20000/ 200000: 2.2002\n",
      "  30000/ 200000: 2.2775\n",
      "  40000/ 200000: 2.1877\n",
      "  50000/ 200000: 1.7750\n",
      "  60000/ 200000: 2.0115\n",
      "  70000/ 200000: 2.1200\n",
      "  80000/ 200000: 1.7939\n",
      "  90000/ 200000: 1.8951\n",
      " 100000/ 200000: 2.1882\n",
      " 110000/ 200000: 2.1638\n",
      " 120000/ 200000: 2.2586\n",
      " 130000/ 200000: 2.2614\n",
      " 140000/ 200000: 2.0924\n",
      " 150000/ 200000: 1.9300\n",
      " 160000/ 200000: 2.7094\n",
      " 170000/ 200000: 1.7180\n",
      " 180000/ 200000: 1.9944\n",
      " 190000/ 200000: 2.5841\n",
      "2.3070268630981445\n"
     ]
    }
   ],
   "source": [
    "for i in range(max_steps):\n",
    "\n",
    "    # minibatch construct\n",
    "    ix = torch.randint(0, Xtr.shape[0], (batch_size,), generator=g)\n",
    "    Xb, Yb = Xtr[ix], Ytr[ix]\n",
    "\n",
    "    logits = feedfoward(Xb, True)\n",
    "    loss = F.cross_entropy(logits, Yb)\n",
    "\n",
    "    # backward pass\n",
    "    for p in parameters:\n",
    "        p.grad = None\n",
    "    loss.backward()\n",
    "\n",
    "    #update\n",
    "    lr = 0.1 if i < max_steps/2 else (0.01 if i < max_steps * 0.75 else 0.005) # lrs[i]\n",
    "    for p in parameters:\n",
    "        p.data += -lr * p.grad\n",
    "    \n",
    "    # track stats\n",
    "    if i % 10000 == 0:\n",
    "        print(f'{i:7d}/{max_steps:7d}: {loss.item():.4f}')\n",
    "    lossi.append(loss.log10().item())\n",
    "\n",
    "print(loss.item())"
   ]
  },
  {
   "cell_type": "code",
   "execution_count": 9,
   "metadata": {},
   "outputs": [
    {
     "data": {
      "text/plain": [
       "[<matplotlib.lines.Line2D at 0x2a6d99eda50>]"
      ]
     },
     "execution_count": 9,
     "metadata": {},
     "output_type": "execute_result"
    },
    {
     "data": {
      "image/png": "[encoded data removed]",
      "text/plain": [
       "<Figure size 640x480 with 1 Axes>"
      ]
     },
     "metadata": {},
     "output_type": "display_data"
    }
   ],
   "source": [
    "plt.plot(lossi)"
   ]
  },
  {
   "cell_type": "code",
   "execution_count": 10,
   "metadata": {},
   "outputs": [
    {
     "name": "stdout",
     "output_type": "stream",
     "text": [
      "train 2.01943039894104\n",
      "val 2.0467283725738525\n"
     ]
    }
   ],
   "source": [
    "@torch.no_grad()\n",
    "def split_loss(split):\n",
    "    x,y = {\n",
    "        'train': (Xtr, Ytr),\n",
    "        'val': (Xdev, Ydev),\n",
    "        'test': (Xte, Yte)\n",
    "    }[split]\n",
    "    # emb = C[x] # [32, 3, 2]\n",
    "    # embcat = emb.view(emb.shape[0], -1)\n",
    "    # hpreact = embcat @ W1 #+ b1\n",
    "    # # hpreact = bngain * (hpreact - hpreact.mean(0, keepdim=True)) / hpreact.std(0, keepdim=True) + bnbias\n",
    "    # hpreact = bngain * (hpreact - bnmean_running) / bnstd_running + bnbias\n",
    "    # h = torch.tanh(hpreact) # (32, 100)\n",
    "    # logits = h @ W2 + b2\n",
    "    logits = feedfoward(x)\n",
    "    loss = F.cross_entropy(logits, y)\n",
    "    print(split, loss.item())\n",
    "\n",
    "split_loss('train')\n",
    "split_loss('val')"
   ]
  },
  {
   "cell_type": "code",
   "execution_count": null,
   "metadata": {},
   "outputs": [],
   "source": [
    "# plt.figure(figsize=(8,8))\n",
    "# plt.scatter(C[:,0].data, C[:,1].data, s=200)\n",
    "# for i in range(C.shape[0]):\n",
    "#     plt.text(C[i,0].item(), C[i,1].item(), itoc[i], ha=\"center\", va=\"center\", color=\"white\")\n",
    "# plt.grid(\"minor\")"
   ]
  },
  {
   "cell_type": "code",
   "execution_count": 11,
   "metadata": {},
   "outputs": [
    {
     "name": "stdout",
     "output_type": "stream",
     "text": [
      "eria.\n",
      "gryanna.\n",
      "elved.\n",
      "ryam.\n",
      "renardiene.\n",
      "leonize.\n",
      "edieli.\n",
      "jemiloelle.\n",
      "elivania.\n",
      "raylyn.\n",
      "markel.\n",
      "noshiberg.\n",
      "hiriel.\n",
      "jocir.\n",
      "jenildete.\n",
      "casumarice.\n",
      "ruylynn.\n",
      "eliyama.\n",
      "maston.\n",
      "mahil.\n"
     ]
    },
    {
     "name": "stderr",
     "output_type": "stream",
     "text": [
      "C:\\Users\\Leonardo.santos\\AppData\\Local\\Temp\\ipykernel_17448\\2265824741.py:13: UserWarning: std(): degrees of freedom is <= 0. Correction should be strictly less than the reduction factor (input numel divided by output numel). (Triggered internally at ..\\aten\\src\\ATen\\native\\ReduceOps.cpp:1760.)\n",
      "  bnstdi = hpreact.std(0, keepdim=True)\n"
     ]
    }
   ],
   "source": [
    "# sample from model\n",
    "g1 = torch.Generator().manual_seed(2147483647+10)\n",
    "\n",
    "for _ in range(20):\n",
    "\n",
    "    out = []\n",
    "    context = [0] * block_size\n",
    "    while True:\n",
    "        # emb = C[torch.tensor([context])]\n",
    "        # embcat = emb.view(emb.shape[0], -1)\n",
    "        # hpreact = embcat @ W1 #+ b1\n",
    "        # # hpreact = bngain * (hpreact - hpreact.mean(0, keepdim=True)) / hpreact.std(0, keepdim=True) + bnbias\n",
    "        # hpreact = bngain * (hpreact - bnmean_running) / bnstd_running + bnbias\n",
    "        # h = torch.tanh(hpreact) # (32, 100)\n",
    "        # logits = h @ W2 + b2\n",
    "        logits = feedfoward(torch.tensor([context]))\n",
    "\n",
    "        probs = F.softmax(logits, dim=1)\n",
    "        ix = torch.multinomial(probs, num_samples=1, generator=g1).item()\n",
    "        context = context[1:]+[ix]\n",
    "        out.append(ix)\n",
    "        if ix == 0:\n",
    "            break\n",
    "\n",
    "    print(''.join(itoc[i] for i in out))"
   ]
  },
  {
   "cell_type": "code",
   "execution_count": null,
   "metadata": {},
   "outputs": [],
   "source": []
  }
 ],
 "metadata": {
  "kernelspec": {
   "display_name": "Makemore-7ynZQ-KU",
   "language": "python",
   "name": "python3"
  },
  "language_info": {
   "codemirror_mode": {
    "name": "ipython",
    "version": 3
   },
   "file_extension": ".py",
   "mimetype": "text/x-python",
   "name": "python",
   "nbconvert_exporter": "python",
   "pygments_lexer": "ipython3",
   "version": "3.11.4"
  }
 },
 "nbformat": 4,
 "nbformat_minor": 2
}
