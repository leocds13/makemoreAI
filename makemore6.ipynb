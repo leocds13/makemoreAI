{
 "cells": [
  {
   "cell_type": "code",
   "execution_count": 3,
   "metadata": {},
   "outputs": [],
   "source": [
    "# import requests\n",
    "import torch\n",
    "# import os\n",
    "import torch.nn.functional as F\n",
    "import matplotlib.pyplot as plt"
   ]
  },
  {
   "cell_type": "code",
   "execution_count": 8,
   "metadata": {},
   "outputs": [
    {
     "name": "stdout",
     "output_type": "stream",
     "text": [
      "57750\n",
      "['emma', 'olivia', 'ava', 'isabella', 'sophia', 'charlotte', 'mia', 'amelia', 'harper', 'evelyn']\n",
      "15\n"
     ]
    }
   ],
   "source": [
    "words = open('names.txt', 'r').read().splitlines()\n",
    "words += open('nomes_br.csv', 'r').read().lower().splitlines()\n",
    "words = list(dict.fromkeys(words))\n",
    "print(len(words))\n",
    "print(words[:10])\n",
    "print(max(len(w) for w in words))"
   ]
  },
  {
   "cell_type": "code",
   "execution_count": 21,
   "metadata": {},
   "outputs": [
    {
     "name": "stdout",
     "output_type": "stream",
     "text": [
      "chars ['.', 'a', 'b', 'c', 'd', 'e', 'f', 'g', 'h', 'i', 'j', 'k', 'l', 'm', 'n', 'o', 'p', 'q', 'r', 's', 't', 'u', 'v', 'w', 'x', 'y', 'z']\n",
      "stoi {'.': 0, 'a': 1, 'b': 2, 'c': 3, 'd': 4, 'e': 5, 'f': 6, 'g': 7, 'h': 8, 'i': 9, 'j': 10, 'k': 11, 'l': 12, 'm': 13, 'n': 14, 'o': 15, 'p': 16, 'q': 17, 'r': 18, 's': 19, 't': 20, 'u': 21, 'v': 22, 'w': 23, 'x': 24, 'y': 25, 'z': 26}\n",
      "itos {0: '.', 1: 'a', 2: 'b', 3: 'c', 4: 'd', 5: 'e', 6: 'f', 7: 'g', 8: 'h', 9: 'i', 10: 'j', 11: 'k', 12: 'l', 13: 'm', 14: 'n', 15: 'o', 16: 'p', 17: 'q', 18: 'r', 19: 's', 20: 't', 21: 'u', 22: 'v', 23: 'w', 24: 'x', 25: 'y', 26: 'z'}\n",
      "vocab_size 27\n"
     ]
    }
   ],
   "source": [
    "chars = ['.'] + sorted(list(set(''.join(words))))\n",
    "itos = dict(zip(range(len(chars)), chars))\n",
    "stoi = dict(zip(chars, range(len(chars))))\n",
    "vocab_size = len(chars)\n",
    "print('chars', chars)\n",
    "print('stoi', stoi)\n",
    "print('itos', itos)\n",
    "print('vocab_size', vocab_size)"
   ]
  },
  {
   "cell_type": "code",
   "execution_count": 71,
   "metadata": {},
   "outputs": [
    {
     "name": "stdout",
     "output_type": "stream",
     "text": [
      "torch.Size([348676, 8]) torch.Size([348676])\n",
      "torch.Size([43738, 8]) torch.Size([43738])\n",
      "torch.Size([43468, 8]) torch.Size([43468])\n"
     ]
    }
   ],
   "source": [
    "# build datasets\n",
    "import random\n",
    "\n",
    "block_size = 8 # how many letters do we take to predict the next\n",
    "\n",
    "def build_dataset(words):\n",
    "    X, Y = [], []\n",
    "\n",
    "    for w in words:\n",
    "        context = [stoi['.']] * block_size\n",
    "\n",
    "        for ch in w + '.':\n",
    "            ix = stoi[ch]\n",
    "            X.append(context)\n",
    "            Y.append(ix)\n",
    "            context = context[1:] + [ix]\n",
    "    \n",
    "    X = torch.tensor(X)\n",
    "    Y = torch.tensor(Y)\n",
    "    print(X.shape, Y.shape)\n",
    "    return X, Y\n",
    "\n",
    "# Randomize the words order\n",
    "random.seed(42)\n",
    "random.shuffle(words)\n",
    "\n",
    "n1 = int(0.8 * len(words)) # ponto de corte em 80%\n",
    "n2 = int(0.9 * len(words)) # ponto de corte em 90%\n",
    "\n",
    "Xtr, Ytr = build_dataset(words[:n1])\n",
    "Xdev, Ydev = build_dataset(words[n1:n2])\n",
    "Xte, Yte = build_dataset(words[n2:])"
   ]
  },
  {
   "cell_type": "code",
   "execution_count": 72,
   "metadata": {},
   "outputs": [
    {
     "name": "stdout",
     "output_type": "stream",
     "text": [
      "........ ----> j\n",
      ".......j ----> a\n",
      "......ja ----> v\n",
      ".....jav ----> o\n",
      "....javo ----> n\n",
      "...javon ----> n\n",
      "..javonn ----> .\n",
      "........ ----> m\n",
      ".......m ----> a\n",
      "......ma ----> r\n",
      ".....mar ----> i\n",
      "....mari ----> e\n",
      "...marie ----> .\n",
      "........ ----> a\n",
      ".......a ----> e\n",
      "......ae ----> r\n",
      ".....aer ----> i\n",
      "....aeri ----> s\n",
      "...aeris ----> .\n",
      "........ ----> j\n"
     ]
    }
   ],
   "source": [
    "for x, y in zip(Xtr[:20], Ytr[:20]):\n",
    "    print(''.join(itos[ix.item()] for ix in x), '---->', itos[y.item()])"
   ]
  },
  {
   "cell_type": "code",
   "execution_count": 98,
   "metadata": {},
   "outputs": [],
   "source": [
    "from typing import Any\n",
    "import torch.nn as NN\n",
    "\n",
    "torch.manual_seed(42);\n",
    "\n",
    "class Linear:\n",
    "    def __init__(self, fan_in, fan_out, bias=True):\n",
    "        self.weight = torch.randn((fan_in, fan_out)) / fan_in ** 0.5\n",
    "        self.bias = torch.zeros(fan_out) if bias else None\n",
    "    \n",
    "    def __call__(self, x):\n",
    "        self.out = x @ self.weight\n",
    "        \n",
    "        if self.bias is not None:\n",
    "            self.out += self.bias\n",
    "        return self.out\n",
    "    \n",
    "    def parameters(self):\n",
    "        return [self.weight] + ([] if self.bias is None else [self.bias])\n",
    "\n",
    "class BatchNorm1d:\n",
    "    def __init__(self, dim, eps=1e-5, momentum=0.1):\n",
    "        self.eps = eps\n",
    "        self.momentum = momentum\n",
    "        self.training = True\n",
    "        #\n",
    "        self.gamma = torch.ones(dim)\n",
    "        self.beta = torch.zeros(dim)\n",
    "        #\n",
    "        self.running_mean = torch.zeros(dim)\n",
    "        self.running_var = torch.ones(dim)\n",
    "    \n",
    "    def __call__(self, x: torch.Tensor):\n",
    "        if self.training:\n",
    "            dim = tuple(range(x.ndim - 1))\n",
    "            xmean = x.mean(dim, keepdim=True)\n",
    "            xvar = x.std(dim, keepdim=True)\n",
    "        else:\n",
    "            xmean = self.running_mean\n",
    "            xvar = self.running_var\n",
    "        \n",
    "        xhat = (x - xmean) / torch.sqrt(xvar + self.eps)\n",
    "        self.out = self.gamma * xhat + self.beta\n",
    "        #\n",
    "        if self.training:\n",
    "            with torch.no_grad():\n",
    "                self.running_mean = (1 - self.momentum) * self.running_mean + self.momentum * xmean\n",
    "                self.running_var = (1 - self.momentum) * self.running_var + self.momentum * xvar\n",
    "        \n",
    "        return self.out\n",
    "    \n",
    "    def parameters(self):\n",
    "        return [self.gamma, self.beta]\n",
    "\n",
    "class Tanh:\n",
    "    def __call__(self, x):\n",
    "        self.out = torch.tanh(x)\n",
    "        return self.out\n",
    "    \n",
    "    def parameters(self):\n",
    "        return []\n",
    "\n",
    "class Embedding:\n",
    "    def __init__(self, num_embeddings, embeddings_dim):\n",
    "        self.weight = torch.randn((num_embeddings, embeddings_dim))\n",
    "    \n",
    "    def __call__(self, IX) -> torch.Tensor:\n",
    "        self.out = self.weight[IX]\n",
    "        return self.out\n",
    "\n",
    "    def parameters(self):\n",
    "        return [self.weight]\n",
    "    \n",
    "class FlattenConsecutive:\n",
    "    def __init__(self, n) -> None:\n",
    "        self.n = n\n",
    "\n",
    "    def __call__(self, x: torch.Tensor) -> torch.Tensor:\n",
    "        B, T, C = x.shape\n",
    "        self.out = x.view(B, T // self.n, C * self.n)\n",
    "\n",
    "        if self.out.shape[1] == 1:\n",
    "           self.out = self.out.squeeze(dim=1) \n",
    "           \n",
    "        return self.out\n",
    "\n",
    "    def parameters(self):\n",
    "        return []\n",
    "\n",
    "class Sequential:\n",
    "    def __init__(self, layers) -> None:\n",
    "        self.layers = layers\n",
    "        self.layers[-1].weight *= 0.1 # last layer make less confident\n",
    "    \n",
    "    def __call__(self, x) -> Any:\n",
    "        for layer in self.layers:\n",
    "            x = layer(x)\n",
    "        self.out = x\n",
    "        return self.out\n",
    "\n",
    "    def parameters(self):\n",
    "        return [p for layer in self.layers for p in layer.parameters()]"
   ]
  },
  {
   "cell_type": "code",
   "execution_count": 116,
   "metadata": {},
   "outputs": [
    {
     "name": "stdout",
     "output_type": "stream",
     "text": [
      "76579\n"
     ]
    }
   ],
   "source": [
    "n_emb = 24 # dim of embedding vectors\n",
    "n_hidden = 128\n",
    "\n",
    "model = Sequential([\n",
    "    Embedding(vocab_size, n_emb), \n",
    "    FlattenConsecutive(2), Linear(n_emb    * 2, n_hidden, bias=False), BatchNorm1d(n_hidden), Tanh(),\n",
    "    FlattenConsecutive(2), Linear(n_hidden * 2, n_hidden, bias=False), BatchNorm1d(n_hidden), Tanh(),\n",
    "    FlattenConsecutive(2), Linear(n_hidden * 2, n_hidden, bias=False), BatchNorm1d(n_hidden), Tanh(),\n",
    "    Linear(n_hidden, vocab_size)\n",
    "])\n",
    "\n",
    "# Params init\n",
    "# with torch.no_grad():\n",
    "#     layers[-1].weight *= 0.1 # las layer make less confident\n",
    "\n",
    "parameters = model.parameters()\n",
    "print(sum(p.nelement() for p in parameters))\n",
    "for p in parameters:\n",
    "    p.requires_grad = True"
   ]
  },
  {
   "cell_type": "code",
   "execution_count": 117,
   "metadata": {},
   "outputs": [
    {
     "data": {
      "text/plain": [
       "torch.Size([128])"
      ]
     },
     "execution_count": 117,
     "metadata": {},
     "output_type": "execute_result"
    }
   ],
   "source": [
    "# for layer in model.layers:\n",
    "#     print(layer.__class__.__name__, ':', tuple(layer.out.shape))"
   ]
  },
  {
   "cell_type": "code",
   "execution_count": 118,
   "metadata": {},
   "outputs": [
    {
     "name": "stdout",
     "output_type": "stream",
     "text": [
      "      0/ 200000: 3.2859\n",
      "  10000/ 200000: 2.1383\n",
      "  20000/ 200000: 2.1244\n",
      "  30000/ 200000: 1.6982\n",
      "  40000/ 200000: 2.4093\n",
      "  50000/ 200000: 1.7878\n",
      "  60000/ 200000: 2.0351\n",
      "  70000/ 200000: 1.9841\n",
      "  80000/ 200000: 2.3153\n",
      "  90000/ 200000: 1.8358\n",
      " 100000/ 200000: 1.7777\n",
      " 110000/ 200000: 2.0216\n",
      " 120000/ 200000: 1.5785\n",
      " 130000/ 200000: 1.9771\n",
      " 140000/ 200000: 1.9909\n",
      " 150000/ 200000: 1.6908\n",
      " 160000/ 200000: 2.1370\n",
      " 170000/ 200000: 2.0206\n",
      " 180000/ 200000: 2.0656\n",
      " 190000/ 200000: 1.7901\n",
      "1.8379871845245361\n"
     ]
    }
   ],
   "source": [
    "max_steps = 200000\n",
    "batch_size = 32\n",
    "lossi = []\n",
    "\n",
    "for i in range(max_steps):\n",
    "    # minibatch contruct\n",
    "    ix = torch.randint(0, Xtr.shape[0], (batch_size,))\n",
    "    Xb, Yb = Xtr[ix], Ytr[ix]\n",
    "\n",
    "    # foward pass\n",
    "    logits = model(Xb)\n",
    "    loss = F.cross_entropy(logits, Yb)\n",
    "\n",
    "    # backwards\n",
    "    for p in parameters:\n",
    "        p.grad = None\n",
    "    loss.backward()\n",
    "\n",
    "    # update\n",
    "    lr = 0.1 if i < 150000 else 0.01\n",
    "    for p in parameters:\n",
    "        p.data += -lr * p.grad\n",
    "    \n",
    "    if i % 10000 == 0:\n",
    "        print(f'{i:7d}/{max_steps:7d}: {loss.item():.4f}')\n",
    "    lossi.append(loss.log10().item())\n",
    "\n",
    "print(loss.item())"
   ]
  },
  {
   "cell_type": "code",
   "execution_count": null,
   "metadata": {},
   "outputs": [
    {
     "data": {
      "text/plain": [
       "[<matplotlib.lines.Line2D at 0x27c32753390>]"
      ]
     },
     "execution_count": 66,
     "metadata": {},
     "output_type": "execute_result"
    },
    {
     "data": {
      "image/png": "[encoded data removed]",
      "text/plain": [
       "<Figure size 640x480 with 1 Axes>"
      ]
     },
     "metadata": {},
     "output_type": "display_data"
    }
   ],
   "source": [
    "plt.plot(torch.tensor(lossi).view(-1, 1000).mean(1))"
   ]
  },
  {
   "cell_type": "code",
   "execution_count": 119,
   "metadata": {},
   "outputs": [],
   "source": [
    "for layer in model.layers:\n",
    "    layer.training = False"
   ]
  },
  {
   "cell_type": "code",
   "execution_count": 120,
   "metadata": {},
   "outputs": [
    {
     "name": "stdout",
     "output_type": "stream",
     "text": [
      "train 1.8518491983413696\n",
      "val 1.9539812803268433\n"
     ]
    }
   ],
   "source": [
    "# evaluate the loss\n",
    "@torch.no_grad()\n",
    "def split_loss(split):\n",
    "    x,y = {\n",
    "        'train': (Xtr, Ytr),\n",
    "        'val': (Xdev, Ydev),\n",
    "        'test': (Xte, Yte)\n",
    "    }[split]\n",
    "\n",
    "    logits = model(x)\n",
    "    loss = F.cross_entropy(logits, y)\n",
    "    \n",
    "    print(split, loss.item())\n",
    "\n",
    "split_loss('train')\n",
    "split_loss('val')"
   ]
  },
  {
   "cell_type": "code",
   "execution_count": 121,
   "metadata": {},
   "outputs": [
    {
     "name": "stdout",
     "output_type": "stream",
     "text": [
      "rosilane - True\n",
      "eciria - False\n",
      "josiya - False\n",
      "kenolane - False\n",
      "domar - False\n",
      "leonita - True\n",
      "shriya - True\n",
      "zoba - False\n",
      "dovam - False\n",
      "raje - False\n",
      "kelita - True\n",
      "nerci - True\n",
      "janelly - True\n",
      "swin - False\n",
      "belland - False\n",
      "willyss - False\n",
      "zedverdo - False\n",
      "francislene - True\n",
      "lordene - False\n",
      "siddara - False\n"
     ]
    }
   ],
   "source": [
    "# sample from the model\n",
    "for _ in range(20):\n",
    "\n",
    "    out = []\n",
    "    context = [stoi['.']] * block_size\n",
    "    while True:\n",
    "        logits = model(torch.tensor([context]))\n",
    "        probs = F.softmax(logits, dim=1)\n",
    "\n",
    "        ix = torch.multinomial(probs, num_samples=1).item()\n",
    "        context = context[1:]+[ix]\n",
    "        if ix == 0:\n",
    "            break\n",
    "        out.append(ix)\n",
    "    \n",
    "    name = ''.join(itos[i] for i in out)\n",
    "    \n",
    "    found = name in words\n",
    "\n",
    "    print(f'{name} - {found}')"
   ]
  },
  {
   "cell_type": "code",
   "execution_count": null,
   "metadata": {},
   "outputs": [],
   "source": []
  }
 ],
 "metadata": {
  "kernelspec": {
   "display_name": "Makemore-7ynZQ-KU",
   "language": "python",
   "name": "python3"
  },
  "language_info": {
   "codemirror_mode": {
    "name": "ipython",
    "version": 3
   },
   "file_extension": ".py",
   "mimetype": "text/x-python",
   "name": "python",
   "nbconvert_exporter": "python",
   "pygments_lexer": "ipython3",
   "version": "3.11.4"
  }
 },
 "nbformat": 4,
 "nbformat_minor": 2
}
