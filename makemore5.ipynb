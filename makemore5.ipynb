{
 "cells": [
  {
   "cell_type": "code",
   "execution_count": 1,
   "metadata": {},
   "outputs": [],
   "source": [
    "# import requests\n",
    "import torch\n",
    "# import os\n",
    "import torch.nn.functional as F\n",
    "import matplotlib.pyplot as plt"
   ]
  },
  {
   "cell_type": "code",
   "execution_count": 2,
   "metadata": {},
   "outputs": [
    {
     "data": {
      "text/plain": [
       "(57750,\n",
       " ['adao',\n",
       "  'adelina',\n",
       "  'adelson',\n",
       "  'ademar',\n",
       "  'ademir',\n",
       "  'adenilson',\n",
       "  'adilson',\n",
       "  'adriana',\n",
       "  'adriano',\n",
       "  'adriele'])"
      ]
     },
     "execution_count": 2,
     "metadata": {},
     "output_type": "execute_result"
    }
   ],
   "source": [
    "file = \"nomes_br.csv\"\n",
    "words = []\n",
    "with open(file, 'r', encoding='utf-8') as f:\n",
    "    words = f.read().lower().splitlines()\n",
    "\n",
    "file = \"names.txt\"\n",
    "with open(file, 'r', encoding='utf-8') as f:\n",
    "    for w in f.read().lower().splitlines():\n",
    "        words.append(w) \n",
    "words = list(dict.fromkeys(words))\n",
    "len(words), words[:10]"
   ]
  },
  {
   "cell_type": "code",
   "execution_count": 3,
   "metadata": {},
   "outputs": [
    {
     "name": "stdout",
     "output_type": "stream",
     "text": [
      "{0: '.', 1: 'a', 2: 'b', 3: 'c', 4: 'd', 5: 'e', 6: 'f', 7: 'g', 8: 'h', 9: 'i', 10: 'j', 11: 'k', 12: 'l', 13: 'm', 14: 'n', 15: 'o', 16: 'p', 17: 'q', 18: 'r', 19: 's', 20: 't', 21: 'u', 22: 'v', 23: 'w', 24: 'x', 25: 'y', 26: 'z'}\n",
      "27\n"
     ]
    }
   ],
   "source": [
    "#build the vocabulary os chars and mapping to/from integers\n",
    "chars = ['.']+sorted(list(set(''.join(words))))\n",
    "ctoi = {c:i for i,c in enumerate(chars)}\n",
    "itoc = {i:c for c,i in ctoi.items()}\n",
    "vocab_size = len(itoc)\n",
    "print(itoc)\n",
    "print(vocab_size)"
   ]
  },
  {
   "cell_type": "code",
   "execution_count": 4,
   "metadata": {},
   "outputs": [
    {
     "name": "stdout",
     "output_type": "stream",
     "text": [
      "torch.Size([348607, 3]) torch.Size([348607])\n",
      "torch.Size([43537, 3]) torch.Size([43537])\n",
      "torch.Size([43738, 3]) torch.Size([43738])\n"
     ]
    }
   ],
   "source": [
    "# build the dataset\n",
    "\n",
    "block_size = 3\n",
    "def build_dataset(words):\n",
    "    X, Y = [], []\n",
    "\n",
    "    for w in words:\n",
    "        context = [0] * block_size\n",
    "        for ch in w + '.':\n",
    "            ix = ctoi[ch]\n",
    "            X.append(context)\n",
    "            Y.append(ix)\n",
    "\n",
    "            context = context[1:] + [ix]\n",
    "    \n",
    "    X = torch.tensor(X)\n",
    "    Y = torch.tensor(Y)\n",
    "    print(X.shape, Y.shape)\n",
    "    return X, Y\n",
    "\n",
    "import random\n",
    "random.seed(42)\n",
    "random.shuffle(words)\n",
    "n1 = int(0.8*len(words))\n",
    "n2 = int(0.9*len(words))\n",
    "\n",
    "# training split, dev/validation split, test split\n",
    "# 80%, 10% , 10%\n",
    "Xtr, Ytr = build_dataset(words[:n1])\n",
    "Xdev, Ydev = build_dataset(words[n1:n2])\n",
    "Xte, Yte = build_dataset(words[n2:])"
   ]
  },
  {
   "cell_type": "code",
   "execution_count": 5,
   "metadata": {},
   "outputs": [],
   "source": [
    "def cmp(s, dt, t):\n",
    "    ex = torch.all(dt == t.grad).item()\n",
    "    app = torch.allclose(dt, t.grad)\n",
    "    maxdiff = (dt - t.grad).abs().max().item()\n",
    "    print(f'{s:15s} | exact: {str(ex):5s} | approximate: {str(app):5s} | maxdiff: {maxdiff}')"
   ]
  },
  {
   "cell_type": "code",
   "execution_count": 43,
   "metadata": {},
   "outputs": [
    {
     "name": "stdout",
     "output_type": "stream",
     "text": [
      "12297\n"
     ]
    }
   ],
   "source": [
    "n_emb = 10\n",
    "n_hidden = 200\n",
    "\n",
    "g = torch.Generator().manual_seed(2147483647)\n",
    "C = torch.randn((vocab_size, n_emb),                generator=g)\n",
    "\n",
    "W1 = torch.randn((n_emb * block_size, n_hidden),    generator=g) * ((5/3) / ((n_emb*block_size) ** 0.5))\n",
    "b1 = torch.randn(n_hidden,                          generator=g) * 0.1\n",
    "\n",
    "W2 = torch.randn((n_hidden, vocab_size),            generator=g) * 0.1\n",
    "b2 = torch.randn(vocab_size,                        generator=g) * 0.1\n",
    "\n",
    "bngain = torch.ones((1, n_hidden)) * 0.1 + 1.0\n",
    "bnbias = torch.zeros((1, n_hidden)) * 0.1\n",
    "bnmean_running = torch.zeros((1, n_hidden))\n",
    "bnstd_running = torch.ones((1, n_hidden)) \n",
    "\n",
    "parameters = [C, W1, W2, b2, b1, bngain, bnbias]\n",
    "print(sum(p.nelement() for p in parameters))\n",
    "for p in parameters:\n",
    "    p.requires_grad = True"
   ]
  },
  {
   "cell_type": "code",
   "execution_count": 66,
   "metadata": {},
   "outputs": [],
   "source": [
    "max_steps = 200000\n",
    "batch_size = 32\n",
    "lossi = []"
   ]
  },
  {
   "cell_type": "code",
   "execution_count": 45,
   "metadata": {},
   "outputs": [
    {
     "data": {
      "text/plain": [
       "tensor(3.6527, grad_fn=<NegBackward0>)"
      ]
     },
     "execution_count": 45,
     "metadata": {},
     "output_type": "execute_result"
    }
   ],
   "source": [
    "# for i in range(max_steps):\n",
    "\n",
    "# minibatch construct\n",
    "ix = torch.randint(0, Xtr.shape[0], (batch_size,), generator=g)\n",
    "Xb, Yb = Xtr[ix], Ytr[ix]\n",
    "\n",
    "# foward pass\n",
    "emb = C[Xb] # [32, 3, 2]\n",
    "emb_cat = emb.view(emb.shape[0], -1)\n",
    "\n",
    "# layer1\n",
    "hprebn = emb_cat @ W1 + b1\n",
    "#batchNorm layer\n",
    "# bnstdi = hpreact.std(0, keepdim=True)\n",
    "# hpreact = bngain * (hpreact - (bnmeani if calcBn else bnmean_running)) / (bnstdi if calcBn else bnstd_running)  + bnbias\n",
    "bnmeani = 1/batch_size * hprebn.sum(0, keepdim=True) \n",
    "bndiff = hprebn - bnmeani\n",
    "bndiff2 = bndiff ** 2\n",
    "bnvar = 1/(batch_size-1)*(bndiff2).sum(0, keepdim=True)\n",
    "bnvar_inv = (bnvar + 1e-5)**-0.5\n",
    "bnraw = bndiff * bnvar_inv\n",
    "hpreact = bngain * bnraw + bnbias\n",
    "# Non-linearity\n",
    "h = torch.tanh(hpreact)\n",
    "# Linear layer 2\n",
    "logits = h @ W2 + b2\n",
    "\n",
    "# if calcBn:\n",
    "#     with torch.no_grad():\n",
    "#         bnmean_running = 0.999 * bnmean_running + 0.001 * bnmeani \n",
    "#         bnstd_running = 0.999 * bnstd_running + 0.001 * bnstdi \n",
    "\n",
    "# h = torch.tanh(hpreact) # (32, 100)\n",
    "# logits = h @ W2 + b2\n",
    "\n",
    "# cross entropy loss (same as F.corss_entropy)\n",
    "# loss = F.cross_entropy(logits, Yb)\n",
    "logits_maxes = logits.max(1, keepdim=True).values\n",
    "norm_logits = logits - logits_maxes\n",
    "counts = norm_logits.exp()\n",
    "counts_sum = counts.sum(1, keepdim=True)\n",
    "counts_sum_inv = counts_sum**-1\n",
    "probs = counts * counts_sum_inv\n",
    "logprobs = probs.log()\n",
    "loss = -logprobs[range(batch_size), Yb].mean()\n",
    "\n",
    "\n",
    "# backward pass\n",
    "for p in parameters:\n",
    "    p.grad = None\n",
    "for t in [logprobs, probs, counts, counts_sum, counts_sum_inv,\n",
    "            norm_logits, logits_maxes, logits, h, hpreact, bnraw,\n",
    "            bnvar_inv, bnvar, bndiff2, bndiff, hprebn, bnmeani, b1,\n",
    "            emb_cat, emb]:\n",
    "    t.retain_grad()\n",
    "loss.backward()\n",
    "loss\n",
    "#update\n",
    "# lr = 0.1 #if i < max_steps/2 else (0.01 if i < max_steps * 0.75 else 0.005) # lrs[i]\n",
    "# for p in parameters:\n",
    "#     p.data += -lr * p.grad\n",
    "\n",
    "# track stats\n",
    "# if i % 10000 == 0:\n",
    "#     print(f'{i:7d}/{max_steps:7d}: {loss.item():.4f}')\n",
    "# lossi.append(loss.log10().item())\n",
    "\n",
    "# print(loss.item())"
   ]
  },
  {
   "cell_type": "code",
   "execution_count": 57,
   "metadata": {},
   "outputs": [
    {
     "name": "stdout",
     "output_type": "stream",
     "text": [
      "torch.Size([32, 3, 10]) torch.Size([27, 10]) torch.Size([32, 3])\n"
     ]
    },
    {
     "data": {
      "text/plain": [
       "torch.Size([32, 3, 10])"
      ]
     },
     "execution_count": 57,
     "metadata": {},
     "output_type": "execute_result"
    }
   ],
   "source": [
    "# logits.shape, logits.max(1, keepdim=True).values.shape\n",
    "# F.one_hot(logits.max(1).indices, num_classes=logits.shape[1]) # HERE ZEROS AND ONES\n",
    "# emb = C[Xb]\n",
    "print(emb.shape, C.shape, Xb.shape)\n",
    "\n"
   ]
  },
  {
   "cell_type": "code",
   "execution_count": 59,
   "metadata": {},
   "outputs": [
    {
     "name": "stdout",
     "output_type": "stream",
     "text": [
      "logprobs        | exact: True  | approximate: True  | maxdiff: 0.0\n",
      "probs           | exact: True  | approximate: True  | maxdiff: 0.0\n",
      "counts_sum_inv  | exact: True  | approximate: True  | maxdiff: 0.0\n",
      "counts_sum      | exact: True  | approximate: True  | maxdiff: 0.0\n",
      "counts          | exact: True  | approximate: True  | maxdiff: 0.0\n",
      "norm_logits     | exact: True  | approximate: True  | maxdiff: 0.0\n",
      "logits_maxes    | exact: True  | approximate: True  | maxdiff: 0.0\n",
      "logits          | exact: True  | approximate: True  | maxdiff: 0.0\n",
      "h               | exact: True  | approximate: True  | maxdiff: 0.0\n",
      "w2              | exact: True  | approximate: True  | maxdiff: 0.0\n",
      "b2              | exact: True  | approximate: True  | maxdiff: 0.0\n",
      "hpreact         | exact: True  | approximate: True  | maxdiff: 0.0\n",
      "bngain          | exact: True  | approximate: True  | maxdiff: 0.0\n",
      "bnraw           | exact: True  | approximate: True  | maxdiff: 0.0\n",
      "bnbias          | exact: True  | approximate: True  | maxdiff: 0.0\n",
      "bnvar_inv       | exact: True  | approximate: True  | maxdiff: 0.0\n",
      "bnvar           | exact: True  | approximate: True  | maxdiff: 0.0\n",
      "bndiff2         | exact: True  | approximate: True  | maxdiff: 0.0\n",
      "bndiff          | exact: True  | approximate: True  | maxdiff: 0.0\n",
      "bnmeani         | exact: True  | approximate: True  | maxdiff: 0.0\n",
      "hprebn          | exact: True  | approximate: True  | maxdiff: 0.0\n",
      "emb_cat         | exact: True  | approximate: True  | maxdiff: 0.0\n",
      "w1              | exact: True  | approximate: True  | maxdiff: 0.0\n",
      "b1              | exact: True  | approximate: True  | maxdiff: 0.0\n",
      "emb             | exact: True  | approximate: True  | maxdiff: 0.0\n",
      "C               | exact: True  | approximate: True  | maxdiff: 0.0\n"
     ]
    }
   ],
   "source": [
    "# EX 1\n",
    "dlogprobs = torch.zeros_like(logprobs)\n",
    "dlogprobs[range(batch_size), Yb] = -1.0 / batch_size\n",
    "cmp('logprobs', dlogprobs, logprobs)\n",
    "\n",
    "dprobs = (1.0 / probs) * dlogprobs\n",
    "cmp('probs', dprobs, probs)\n",
    "\n",
    "dcounts_sum_inv = (counts * dprobs).sum(1, keepdim=True)\n",
    "cmp('counts_sum_inv', dcounts_sum_inv, counts_sum_inv)\n",
    "\n",
    "dcounts_sum = (-counts_sum ** -2) * dcounts_sum_inv\n",
    "cmp('counts_sum', dcounts_sum, counts_sum)\n",
    "\n",
    "dcounts = counts_sum_inv * dprobs\n",
    "dcounts += torch.ones_like(counts) * dcounts_sum\n",
    "cmp('counts', dcounts, counts)\n",
    "\n",
    "dnorm_logits = counts * dcounts\n",
    "cmp('norm_logits', dnorm_logits, norm_logits)\n",
    "\n",
    "dlogits_maxes = (-dnorm_logits).sum(1, keepdim=True)\n",
    "cmp('logits_maxes', dlogits_maxes, logits_maxes)\n",
    "\n",
    "dlogits = dnorm_logits.clone()\n",
    "dlogits += F.one_hot(logits.max(1).indices, num_classes=logits.shape[1]) * dlogits_maxes\n",
    "cmp('logits', dlogits, logits)\n",
    "\n",
    "dh = dlogits @ W2.T\n",
    "dw2 = h.T @ dlogits\n",
    "db2 = dlogits.sum(0)\n",
    "cmp('h', dh, h)\n",
    "cmp('w2', dw2, W2)\n",
    "cmp('b2', db2, b2)\n",
    "\n",
    "dhpreact = (1.0 - h**2) * dh\n",
    "cmp('hpreact', dhpreact, hpreact)\n",
    "\n",
    "dbngain = (bnraw * dhpreact).sum(0, keepdim=True)\n",
    "dbnraw = bngain * dhpreact\n",
    "dbnbias = dhpreact.sum(0, keepdim=True)\n",
    "cmp('bngain', dbngain, bngain)\n",
    "cmp('bnraw', dbnraw, bnraw)\n",
    "cmp('bnbias', dbnbias, bnbias)\n",
    "\n",
    "dbnvar_inv = (bndiff * dbnraw).sum(0, keepdim=True)\n",
    "cmp('bnvar_inv', dbnvar_inv, bnvar_inv)\n",
    "\n",
    "dbnvar = (-0.5 * (bnvar + 1e-5) ** -1.5) * dbnvar_inv\n",
    "cmp('bnvar', dbnvar, bnvar)\n",
    "\n",
    "dbndiff2 = (1.0/(batch_size-1))*torch.ones_like(bndiff2) * dbnvar\n",
    "cmp('bndiff2', dbndiff2, bndiff2)\n",
    "\n",
    "dbndiff = bnvar_inv * dbnraw\n",
    "dbndiff += (2 * bndiff) * dbndiff2\n",
    "cmp('bndiff', dbndiff, bndiff)\n",
    "\n",
    "dbnmeani = (-dbndiff).sum(0, keepdim=True)\n",
    "cmp('bnmeani', dbnmeani, bnmeani)\n",
    "\n",
    "dhprebn = dbndiff.clone()\n",
    "dhprebn += 1.0/batch_size * torch.ones_like(hprebn) * dbnmeani\n",
    "cmp('hprebn', dhprebn, hprebn)\n",
    "\n",
    "demb_cat = dhprebn @ W1.T\n",
    "dw1 = emb_cat.T @ dhprebn\n",
    "db1 = dhprebn.sum(0)\n",
    "cmp('emb_cat', demb_cat, emb_cat)\n",
    "cmp('w1', dw1, W1)\n",
    "cmp('b1', db1, b1)\n",
    "\n",
    "demb = demb_cat.view(emb.shape)\n",
    "cmp('emb', demb, emb)\n",
    "\n",
    "dC = torch.zeros_like(C)\n",
    "for k in range(Xb.shape[0]):\n",
    "    for j in range(Xb.shape[1]):\n",
    "        ix = Xb[k, j]\n",
    "        dC[ix] += demb[k, j]\n",
    "cmp('C', dC, C)"
   ]
  },
  {
   "cell_type": "code",
   "execution_count": 61,
   "metadata": {},
   "outputs": [
    {
     "name": "stdout",
     "output_type": "stream",
     "text": [
      "logits          | exact: False | approximate: True  | maxdiff: 6.05359673500061e-09\n"
     ]
    }
   ],
   "source": [
    "# EX: 2\n",
    "dlogits = F.softmax(logits, 1)\n",
    "dlogits[range(batch_size), Yb] -= 1\n",
    "dlogits /= batch_size\n",
    "cmp('logits', dlogits, logits)"
   ]
  },
  {
   "cell_type": "code",
   "execution_count": 63,
   "metadata": {},
   "outputs": [
    {
     "data": {
      "text/plain": [
       "<matplotlib.image.AxesImage at 0x23eee3e13d0>"
      ]
     },
     "execution_count": 63,
     "metadata": {},
     "output_type": "execute_result"
    },
    {
     "data": {
      "image/png": "[encoded data removed]",
      "text/plain": [
       "<Figure size 800x800 with 1 Axes>"
      ]
     },
     "metadata": {},
     "output_type": "display_data"
    }
   ],
   "source": [
    "plt.figure(figsize=(8,8))\n",
    "plt.imshow(dlogits.detach(), cmap='gray')"
   ]
  },
  {
   "cell_type": "code",
   "execution_count": 65,
   "metadata": {},
   "outputs": [
    {
     "name": "stdout",
     "output_type": "stream",
     "text": [
      "hprebn          | exact: False | approximate: True  | maxdiff: 9.313225746154785e-10\n"
     ]
    }
   ],
   "source": [
    "# Ex: 3\n",
    "dhprebn = bngain*bnvar_inv/batch_size * (batch_size * dhpreact - dhpreact.sum(0) - batch_size/(batch_size-1)*bnraw*(dhpreact*bnraw).sum(0))\n",
    "cmp('hprebn', dhprebn, hprebn)"
   ]
  },
  {
   "cell_type": "code",
   "execution_count": 84,
   "metadata": {},
   "outputs": [
    {
     "name": "stdout",
     "output_type": "stream",
     "text": [
      "12297\n",
      "      0/ 200000: 3.6527\n",
      "  10000/ 200000: 2.2319\n",
      "  20000/ 200000: 2.1993\n",
      "  30000/ 200000: 2.3055\n",
      "  40000/ 200000: 2.3515\n",
      "  50000/ 200000: 2.2431\n",
      "  60000/ 200000: 1.8821\n",
      "  70000/ 200000: 1.8398\n",
      "  80000/ 200000: 2.5758\n",
      "  90000/ 200000: 1.9537\n",
      " 100000/ 200000: 1.9298\n",
      " 110000/ 200000: 2.0243\n",
      " 120000/ 200000: 1.9337\n",
      " 130000/ 200000: 2.2860\n",
      " 140000/ 200000: 2.2015\n",
      " 150000/ 200000: 2.0227\n",
      " 160000/ 200000: 1.8778\n",
      " 170000/ 200000: 1.9759\n",
      " 180000/ 200000: 2.6277\n",
      " 190000/ 200000: 2.2362\n",
      "2.2176673412323\n"
     ]
    }
   ],
   "source": [
    "# EX: 4\n",
    "\n",
    "#init\n",
    "n_emb = 10\n",
    "n_hidden = 200\n",
    "\n",
    "g = torch.Generator().manual_seed(2147483647)\n",
    "C = torch.randn((vocab_size, n_emb),                generator=g)\n",
    "\n",
    "W1 = torch.randn((n_emb * block_size, n_hidden),    generator=g) * ((5/3) / ((n_emb*block_size) ** 0.5))\n",
    "b1 = torch.randn(n_hidden,                          generator=g) * 0.1\n",
    "\n",
    "W2 = torch.randn((n_hidden, vocab_size),            generator=g) * 0.1\n",
    "b2 = torch.randn(vocab_size,                        generator=g) * 0.1\n",
    "\n",
    "bngain = torch.ones((1, n_hidden)) * 0.1 + 1.0\n",
    "bnbias = torch.zeros((1, n_hidden)) * 0.1\n",
    "bnmean_running = torch.zeros((1, n_hidden))\n",
    "bnstd_running = torch.ones((1, n_hidden)) \n",
    "\n",
    "parameters = [C, W1, W2, b2, b1, bngain, bnbias]\n",
    "print(sum(p.nelement() for p in parameters))\n",
    "for p in parameters:\n",
    "    p.requires_grad = True\n",
    "\n",
    "max_steps = 200000\n",
    "batch_size = 32\n",
    "lossi = []\n",
    "\n",
    "with torch.no_grad():\n",
    "    for i in range(max_steps):\n",
    "\n",
    "        # minibatch construct\n",
    "        ix = torch.randint(0, Xtr.shape[0], (batch_size,), generator=g)\n",
    "        Xb, Yb = Xtr[ix], Ytr[ix]\n",
    "\n",
    "        # foward pass\n",
    "        emb = C[Xb] # [32, 3, 2]\n",
    "        emb_cat = emb.view(emb.shape[0], -1)\n",
    "\n",
    "        # layer1\n",
    "        hprebn = emb_cat @ W1 + b1\n",
    "        # batchNorm layer\n",
    "        bnmeani = 1/batch_size * hprebn.sum(0, keepdim=True) \n",
    "        bndiff = hprebn - bnmeani\n",
    "        bndiff2 = bndiff ** 2\n",
    "        bnvar = 1/(batch_size-1)*(bndiff2).sum(0, keepdim=True)\n",
    "        bnvar_inv = (bnvar + 1e-5)**-0.5\n",
    "        bnraw = bndiff * bnvar_inv\n",
    "        hpreact = bngain * bnraw + bnbias\n",
    "        # Non-linearity\n",
    "        h = torch.tanh(hpreact)\n",
    "        # Linear layer 2\n",
    "        logits = h @ W2 + b2\n",
    "\n",
    "        logits_maxes = logits.max(1, keepdim=True).values\n",
    "        norm_logits = logits - logits_maxes\n",
    "        counts = norm_logits.exp()\n",
    "        counts_sum = counts.sum(1, keepdim=True)\n",
    "        counts_sum_inv = counts_sum**-1\n",
    "        probs = counts * counts_sum_inv\n",
    "        logprobs = probs.log()\n",
    "        loss = -logprobs[range(batch_size), Yb].mean()\n",
    "\n",
    "        # backward pass\n",
    "        # for p in parameters:\n",
    "        #     p.grad = None\n",
    "        # loss.backward()\n",
    "            \n",
    "        # My Backprop\n",
    "        dC, dw1, db1, dw2, db2, dbngain, dbnbias = None, None, None, None, None, None, None\n",
    "        # dlogprobs = torch.zeros_like(logprobs)\n",
    "        # dlogprobs[range(batch_size), Yb] = -1.0 / batch_size\n",
    "        # dprobs = (1.0 / probs) * dlogprobs\n",
    "        # dcounts_sum_inv = (counts * dprobs).sum(1, keepdim=True)\n",
    "        # dcounts_sum = (-counts_sum ** -2) * dcounts_sum_inv\n",
    "        # dcounts = counts_sum_inv * dprobs\n",
    "        # dcounts += torch.ones_like(counts) * dcounts_sum\n",
    "        # dnorm_logits = counts * dcounts\n",
    "        # dlogits_maxes = (-dnorm_logits).sum(1, keepdim=True)\n",
    "        # dlogits = dnorm_logits.clone()\n",
    "        # dlogits += F.one_hot(logits.max(1).indices, num_classes=logits.shape[1]) * dlogits_maxes\n",
    "        dlogits = F.softmax(logits, 1)\n",
    "        dlogits[range(batch_size), Yb] -= 1\n",
    "        dlogits /= batch_size\n",
    "\n",
    "        dh = dlogits @ W2.T\n",
    "        dw2 = h.T @ dlogits\n",
    "        db2 = dlogits.sum(0)\n",
    "        dhpreact = (1.0 - h**2) * dh\n",
    "        dbngain = (bnraw * dhpreact).sum(0, keepdim=True)\n",
    "        dbnbias = dhpreact.sum(0, keepdim=True)\n",
    "\n",
    "        # dbnraw = bngain * dhpreact\n",
    "        # dbnvar_inv = (bndiff * dbnraw).sum(0, keepdim=True)\n",
    "        # dbnvar = (-0.5 * (bnvar + 1e-5) ** -1.5) * dbnvar_inv\n",
    "        # dbndiff2 = (1.0/(batch_size-1))*torch.ones_like(bndiff2) * dbnvar\n",
    "        # dbndiff = bnvar_inv * dbnraw\n",
    "        # dbndiff += (2 * bndiff) * dbndiff2\n",
    "        # dbnmeani = (-dbndiff).sum(0, keepdim=True)\n",
    "        # dhprebn = dbndiff.clone()\n",
    "        # dhprebn += 1.0/batch_size * torch.ones_like(hprebn) * dbnmeani\n",
    "        dhprebn = bngain * bnvar_inv / batch_size * (batch_size * dhpreact - dhpreact.sum(0) - batch_size / (batch_size-1) * bnraw * (dhpreact * bnraw).sum(0))\n",
    "\n",
    "        demb_cat = dhprebn @ W1.T\n",
    "        dw1 = emb_cat.T @ dhprebn\n",
    "        db1 = dhprebn.sum(0)\n",
    "        demb = demb_cat.view(emb.shape)\n",
    "        dC = torch.zeros_like(C)\n",
    "        for k in range(Xb.shape[0]):\n",
    "            for j in range(Xb.shape[1]):\n",
    "                ix = Xb[k, j]\n",
    "                dC[ix] += demb[k, j]\n",
    "        grads = [dC, dw1, dw2, db2, db1, dbngain, dbnbias]\n",
    "\n",
    "        #update\n",
    "        lr = 0.1 if i < max_steps/2 else (0.01 if i < max_steps * 0.75 else 0.005) # lrs[i]\n",
    "        for p, grad in zip(parameters, grads):\n",
    "            # p.data += -lr * p.grad\n",
    "            p.data += -lr * grad\n",
    "        \n",
    "        # track stats\n",
    "        if i % 10000 == 0:\n",
    "            print(f'{i:7d}/{max_steps:7d}: {loss.item():.4f}')\n",
    "        lossi.append(loss.log10().item())\n",
    "        # if i % 1000 == 0:\n",
    "        #     break\n",
    "\n",
    "print(loss.item())"
   ]
  },
  {
   "cell_type": "code",
   "execution_count": 80,
   "metadata": {},
   "outputs": [
    {
     "name": "stdout",
     "output_type": "stream",
     "text": [
      "(27, 10)        | exact: False | approximate: True  | maxdiff: 1.3969838619232178e-08\n",
      "(30, 200)       | exact: False | approximate: True  | maxdiff: 1.3969838619232178e-08\n",
      "(200, 27)       | exact: False | approximate: True  | maxdiff: 1.4901161193847656e-08\n",
      "(27,)           | exact: False | approximate: True  | maxdiff: 1.4901161193847656e-08\n",
      "(200,)          | exact: False | approximate: True  | maxdiff: 5.820766091346741e-09\n",
      "(1, 200)        | exact: False | approximate: True  | maxdiff: 2.3283064365386963e-09\n",
      "(1, 200)        | exact: False | approximate: True  | maxdiff: 7.450580596923828e-09\n"
     ]
    }
   ],
   "source": [
    "# for p, g in zip(parameters, grads):\n",
    "#     cmp(str(tuple(p.shape)), g, p)"
   ]
  },
  {
   "cell_type": "code",
   "execution_count": 85,
   "metadata": {},
   "outputs": [],
   "source": [
    "with torch.no_grad():\n",
    "    emb = C[Xtr]\n",
    "    embcat = emb.view(emb.shape[0], -1)\n",
    "    hpreact = embcat @ W1 + b1\n",
    "    bnmean_running = hpreact.mean(0, keepdim=True)\n",
    "    bnvar_running = hpreact.var(0, keepdim=True, unbiased=True)"
   ]
  },
  {
   "cell_type": "code",
   "execution_count": 86,
   "metadata": {},
   "outputs": [
    {
     "name": "stdout",
     "output_type": "stream",
     "text": [
      "train 2.085801124572754\n",
      "val 2.1062376499176025\n"
     ]
    }
   ],
   "source": [
    "@torch.no_grad()\n",
    "def split_loss(split):\n",
    "    x,y = {\n",
    "        'train': (Xtr, Ytr),\n",
    "        'val': (Xdev, Ydev),\n",
    "        'test': (Xte, Yte)\n",
    "    }[split]\n",
    "    emb = C[x] # [32, 3, 2]\n",
    "    embcat = emb.view(emb.shape[0], -1)\n",
    "    hpreact = embcat @ W1 + b1\n",
    "    # hpreact = bngain * (hpreact - hpreact.mean(0, keepdim=True)) / hpreact.std(0, keepdim=True) + bnbias\n",
    "    # hpreact = bngain * (hpreact - bnmean_running) / bnvar_running + bnbias\n",
    "    hpreact = bngain * (hpreact - bnmean_running) * (bnvar_running + 1e-5) ** -0.5 + bnbias\n",
    "    h = torch.tanh(hpreact) # (32, 100)\n",
    "    logits = h @ W2 + b2\n",
    "    # logits = feedfoward(x)\n",
    "    loss = F.cross_entropy(logits, y)\n",
    "    print(split, loss.item())\n",
    "\n",
    "split_loss('train')\n",
    "split_loss('val')"
   ]
  },
  {
   "cell_type": "code",
   "execution_count": 87,
   "metadata": {},
   "outputs": [
    {
     "name": "stdout",
     "output_type": "stream",
     "text": [
      "eria.\n",
      "gryanna.\n",
      "elvid.\n",
      "ryah.\n",
      "renerson.\n",
      "dra.\n",
      "grazeem.\n",
      "selithelizoparedeiseana.\n",
      "arleitzio.\n",
      "lura.\n",
      "noshubergias.\n",
      "jessin.\n",
      "joselle.\n",
      "josenifeubertedir.\n",
      "yah.\n",
      "freds.\n",
      "kayshaston.\n",
      "azhilianayansufinaldo.\n",
      "juren.\n",
      "cristiviaostino.\n"
     ]
    }
   ],
   "source": [
    "# sample from model\n",
    "g1 = torch.Generator().manual_seed(2147483647+10)\n",
    "\n",
    "for _ in range(20):\n",
    "\n",
    "    out = []\n",
    "    context = [0] * block_size\n",
    "    while True:\n",
    "        emb = C[torch.tensor([context])]\n",
    "        embcat = emb.view(emb.shape[0], -1)\n",
    "        hpreact = embcat @ W1 #+ b1\n",
    "        # hpreact = bngain * (hpreact - hpreact.mean(0, keepdim=True)) / hpreact.std(0, keepdim=True) + bnbias\n",
    "        # hpreact = bngain * (hpreact - bnmean_running) / bnstd_running + bnbias\n",
    "        hpreact = bngain * (hpreact - bnmean_running) * (bnvar_running + 1e-5) ** -0.5 + bnbias\n",
    "        h = torch.tanh(hpreact) # (32, 100)\n",
    "        logits = h @ W2 + b2\n",
    "        # logits = feedfoward(torch.tensor([context]))\n",
    "\n",
    "        probs = F.softmax(logits, dim=1)\n",
    "        ix = torch.multinomial(probs, num_samples=1, generator=g1).item()\n",
    "        context = context[1:]+[ix]\n",
    "        out.append(ix)\n",
    "        if ix == 0:\n",
    "            break\n",
    "\n",
    "    print(''.join(itoc[i] for i in out))"
   ]
  },
  {
   "cell_type": "code",
   "execution_count": null,
   "metadata": {},
   "outputs": [],
   "source": []
  }
 ],
 "metadata": {
  "kernelspec": {
   "display_name": "Makemore-7ynZQ-KU",
   "language": "python",
   "name": "python3"
  },
  "language_info": {
   "codemirror_mode": {
    "name": "ipython",
    "version": 3
   },
   "file_extension": ".py",
   "mimetype": "text/x-python",
   "name": "python",
   "nbconvert_exporter": "python",
   "pygments_lexer": "ipython3",
   "version": "3.11.4"
  }
 },
 "nbformat": 4,
 "nbformat_minor": 2
}
